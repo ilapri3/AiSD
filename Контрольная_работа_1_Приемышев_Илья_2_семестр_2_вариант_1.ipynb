{
 "cells": [
  {
   "cell_type": "markdown",
   "metadata": {},
   "source": [
    "### Контрольная работа № 1.\n",
    "### Вариант 2.\n",
    "#### Студент: Приемышев Илья группа: ИД23-2"
   ]
  },
  {
   "cell_type": "markdown",
   "metadata": {},
   "source": [
    "1. Напишите программу, которая выполняет добавление, удаление и вывод на экран элементов списка при помощи классов. \n",
    "\n",
    "Решение задачи\n",
    "\n",
    "1.\tСоздаем класс и с помощью конструктора инициализируем значения этого класса.\n",
    "2.\tСоздаем в данном классе методы для добавления, удаления и вывода на экран соответствующих значений.\n",
    "3.\tСоздаем объект данного класса.\n",
    "4.\tИспользуя созданный объект, вызываем соответствующий метод (в зависимости от выбора пользователя).\n",
    "5.\tВыводим результат на экран.\n",
    "6.\tКонец.\n",
    "\n",
    "В программе реализовать выбор с помощью меню:\n",
    "\n",
    "print(\"0. Выход\")\n",
    "\n",
    "print(\"1. Добавить\")\n",
    "\n",
    "print(\"2. Удалить\")\n",
    "\n",
    "print(\"3. Вывести на экран\")\n",
    "\n",
    "choice = int(input(\"Выберите одно из этих значений: \"))\n",
    "\n"
   ]
  },
  {
   "cell_type": "code",
   "execution_count": 1,
   "metadata": {},
   "outputs": [
    {
     "name": "stdout",
     "output_type": "stream",
     "text": [
      "0. Выход\n",
      "1. Добавить\n",
      "2. Удалить\n",
      "3. Вывести на экран\n"
     ]
    },
    {
     "name": "stdin",
     "output_type": "stream",
     "text": [
      "Выберите одно из этих значений:  1\n",
      "Введите добавляемый элемент:  4\n"
     ]
    },
    {
     "name": "stdout",
     "output_type": "stream",
     "text": [
      "0. Выход\n",
      "1. Добавить\n",
      "2. Удалить\n",
      "3. Вывести на экран\n"
     ]
    },
    {
     "name": "stdin",
     "output_type": "stream",
     "text": [
      "Выберите одно из этих значений:  3\n"
     ]
    },
    {
     "name": "stdout",
     "output_type": "stream",
     "text": [
      "['4']\n",
      "0. Выход\n",
      "1. Добавить\n",
      "2. Удалить\n",
      "3. Вывести на экран\n"
     ]
    },
    {
     "name": "stdin",
     "output_type": "stream",
     "text": [
      "Выберите одно из этих значений:  0\n"
     ]
    }
   ],
   "source": [
    "# Решение 1.\n",
    "class Menu(object):\n",
    "    def __init__(self):\n",
    "        self.list = []\n",
    "\n",
    "    def add(self, el):\n",
    "        self.list.append(el)\n",
    "        return f'Элемент {el} добавлен в список'\n",
    "\n",
    "    def delete(self, el):\n",
    "        if el in self.list:\n",
    "            self.list.remove(el)\n",
    "            return f'Элемент {el} удален из списка'\n",
    "        else:\n",
    "            return f'Данный элемент отсутсвует в списке'\n",
    "\n",
    "    def show_info(self):\n",
    "        return self.list\n",
    "\n",
    "\n",
    "interface = Menu()\n",
    "flag = 0\n",
    "while flag == 0:\n",
    "    print(\"0. Выход\")\n",
    "    print(\"1. Добавить\")\n",
    "    print(\"2. Удалить\")\n",
    "    print(\"3. Вывести на экран\")\n",
    "    \n",
    "    choice = int(input(\"Выберите одно из этих значений: \"))\n",
    "\n",
    "    if choice == 0:\n",
    "        flag = 1\n",
    "    elif choice == 1:\n",
    "        element = input('Введите добавляемый элемент: ')\n",
    "        interface.add(element)\n",
    "    elif choice == 2:\n",
    "        element = input('Введите удаляемый элемент: ')\n",
    "        interface.delete(element)\n",
    "    elif choice == 3:\n",
    "        print(interface.show_info())"
   ]
  },
  {
   "cell_type": "markdown",
   "metadata": {},
   "source": [
    "2. Используя класс People в качестве базового, создайте класс Сотрудник (Worker), имеющий свойства:\n",
    "\n",
    "• должность (post)\n",
    "\n",
    "• зарплата (salary)\n",
    "\n",
    "методы:\n",
    "\n",
    "• __init__ – конструктор;\n",
    "\n",
    "• __str__ – аналогично методу класса Teacher из примера.\n",
    "\n",
    "Используя класс Сотрудник в качестве базового создайте класс Преподаватель (Teacher), имеющий:\n",
    "\n",
    "• закрытый атрибут дисциплины (disciplines), в котором хранятся названия дисциплин, которые ведет преподаватель;\n",
    "\n",
    "• методы __init__ и __str__;\n",
    "\n",
    "• методы добавить_дисциплину (add_dis) и удалить_дисциплину (delete_dis), которые позволяют изменять список дисциплин.\n",
    "\n",
    "Создайте список, содержащий по 2 объекта каждого класса (People, Worker, Teacher). Для этого списка:\n",
    "\n",
    "• выведите информацию о каждом человеке с помощью метода info;\n",
    "\n",
    "• выведите фамилии тех, кто моложе 30 лет;\n",
    "\n",
    "• продемонстрируйте работу со свойствами должность и зарплата и методами добавить_дисциплину и удалить_дисциплину.\n"
   ]
  },
  {
   "cell_type": "code",
   "execution_count": 47,
   "metadata": {},
   "outputs": [
    {
     "name": "stdout",
     "output_type": "stream",
     "text": [
      "Фамилия: Приемышев, возраст: 24\n",
      "Фамилия: Иванов, возраст: 31\n",
      "Фамилия: Волков, возраст: 29, должность: Data-scientist, зарплата: 120000\n",
      "Фамилия: Петров, возраст: 35, должность: Back-end developer, зарплата: 90000\n",
      "Фамилия: Бунин, возраст: 29, должность: Преподаватель, зарплата: 70000, дисциплины: Математика, Информатика\n",
      "Фамилия: Алешин, возраст: 33, должность: Преподаватель, зарплата: 75000, дисциплины: Русский язык, История\n",
      "Фамилии тех, кто моложе 30 лет\n",
      "Приемышев\n",
      "Волков\n",
      "Бунин\n",
      "Фамилия: Бунин, возраст: 29, должность: Преподаватель, зарплата: 70000, дисциплины: Математика, Информатика, История\n",
      "Фамилия: Алешин, возраст: 33, должность: Преподаватель, зарплата: 75000, дисциплины: Русский язык\n"
     ]
    }
   ],
   "source": [
    "# Решение 2.\n",
    "class People(object):\n",
    "    def __init__(self, surname, age):\n",
    "        self.surname = surname\n",
    "        self.age = age\n",
    "    \n",
    "    def show_info(self):\n",
    "        return f'Фамилия: {self.surname}, возраст: {self.age}'\n",
    "\n",
    "\n",
    "class Worker(People):\n",
    "    def __init__(self, surname, age, post, salary):\n",
    "        super().__init__(surname, age)\n",
    "        self.post = post\n",
    "        self.salary = salary\n",
    "\n",
    "    def __str__(self):\n",
    "        return f'{self.show_info()}, должность: {self.post}, зарплата: {self.salary}'\n",
    "\n",
    "\n",
    "class Teacher(Worker):\n",
    "    def __init__(self, surname, age, post, salary, dis):\n",
    "        super().__init__(surname, age, post, salary)\n",
    "        self.dis = dis\n",
    "\n",
    "    def add_dis(self, dis):\n",
    "        self.dis.append(dis)\n",
    "\n",
    "    def delete_dis(self, dis):\n",
    "        self.dis.remove(dis)\n",
    "\n",
    "    def __str__(self):\n",
    "        list_of_dis = ', '.join(self.dis)\n",
    "        return f'{super().__str__()}, дисциплины: {list_of_dis}'\n",
    "\n",
    "\n",
    "person_1 = People('Приемышев', '24')\n",
    "person_2 = People('Иванов', '31')\n",
    "\n",
    "employee_1 = Worker('Волков','29','Data-scientist','120000')\n",
    "employee_2 = Worker('Петров','35','Back-end developer','90000')\n",
    "\n",
    "teacher_1 = Teacher('Бунин','29', 'Преподаватель', '70000', ['Математика', 'Информатика'])\n",
    "teacher_2 = Teacher(\"Алешин\", '33', 'Преподаватель', '75000', ['Русский язык', 'История'])\n",
    "\n",
    "list_of_people = [person_1, person_2, employee_1, employee_2, teacher_1, teacher_2]\n",
    "\n",
    "print(person_1.show_info())\n",
    "print(person_2.show_info())\n",
    "print(employee_1)\n",
    "print(employee_2)\n",
    "print(teacher_1)\n",
    "print(teacher_2)\n",
    "\n",
    "print('Фамилии тех, кто моложе 30 лет:')\n",
    "for person in list_of_people:\n",
    "    if person.age < '30':\n",
    "        print(person.surname)\n",
    "\n",
    "teacher_1.add_dis('История')\n",
    "print(teacher_1)\n",
    "teacher_2.delete_dis('История')\n",
    "print(teacher_2)"
   ]
  },
  {
   "cell_type": "markdown",
   "metadata": {},
   "source": [
    "3.Создайте класс Заказ(Order), у которого есть свойства кодтовара(code), цена(price), количество(count) и методы _init и str.\n",
    "\n",
    "Создайте 2 класса-потомка: Опт(Opt) и Розница(Retail). В этих классах создайте методы init, str.и сумма_заказа(summa), позволяющий узнать стоимость заказа. Для опта стоимость единицы товара составляет 95% от цены, а при покупке более 500 штук – 90% цены. В розницу стоимость единицы товара составляет 100% цены. Стоимость заказа равна произведению цены на количество.\n",
    "\n",
    "Продемонстрируйте работу с классами, создав необходимые объекты и обратившись к их свойствам и методам"
   ]
  },
  {
   "cell_type": "code",
   "execution_count": 21,
   "metadata": {},
   "outputs": [
    {
     "name": "stdout",
     "output_type": "stream",
     "text": [
      "Состав оптового заказа: Код товара: 174, цена товара: 120, количество товара: 50, Сумма оптового заказа: 5700.0 ₽ \n",
      "Состав розничного заказа: Код товара: 17384, цена товара: 120, количество товара: 550, Сумма розничного заказа: 66000 ₽ \n"
     ]
    }
   ],
   "source": [
    "# Решение 3.\n",
    "class Order(object):\n",
    "    def __init__(self, code, price, count):\n",
    "        self.code = code\n",
    "        self.price = price\n",
    "        self.count = count\n",
    "    \n",
    "    def __str__(self):\n",
    "        return f'Код товара: {self.code}, цена товара: {self.price}, количество товара: {self.count}'\n",
    "\n",
    "\n",
    "class Opt(Order):\n",
    "    def __init__(self, code, price, count):\n",
    "        super().__init__(code, price, count)\n",
    "    \n",
    "    def __str__(self):\n",
    "        return f'Состав оптового заказа: {super().__str__()}'\n",
    "\n",
    "    def summa(self):\n",
    "        if self.count > 500:\n",
    "            return self.price * 0.9 * self.count\n",
    "        else:\n",
    "            return self.price * 0.95 * self.count\n",
    "\n",
    "class Retail(Order):\n",
    "    def __init__(self, code, price, count):\n",
    "        super().__init__(code, price, count)\n",
    "\n",
    "    def __str__(self):\n",
    "        return f'Состав розничного заказа: {super().__str__()}'\n",
    "\n",
    "    def summa(self):\n",
    "        return self.price * self.count\n",
    "        \n",
    "optoviy_ord = Opt(174, 120, 50)\n",
    "roz_ord = Retail(17384, 120, 550)\n",
    "print(f'{optoviy_ord}, Сумма оптового заказа: {optoviy_ord.summa()} ₽ ')\n",
    "print(f'{roz_ord}, Сумма розничного заказа: {roz_ord.summa()} ₽ ')"
   ]
  },
  {
   "cell_type": "markdown",
   "metadata": {},
   "source": [
    "4.Написать функцию-генератор my_func_2(lst), которая принимает объект, поддерживающий итерации с произвольным уровнем вложенности, и возвращает все элементы по одному."
   ]
  },
  {
   "cell_type": "code",
   "execution_count": 32,
   "metadata": {},
   "outputs": [
    {
     "name": "stdout",
     "output_type": "stream",
     "text": [
      "1\n",
      "2\n",
      "3\n",
      "4\n",
      "5\n",
      "6\n",
      "7\n",
      "8\n",
      "9\n",
      "10\n",
      "11\n",
      "12\n"
     ]
    }
   ],
   "source": [
    "# Решение 4.\n",
    "def my_func_2(lst):\n",
    "    if type(lst) == list:\n",
    "        for i in lst:\n",
    "            yield from my_func_2(i)\n",
    "    else:\n",
    "        yield lst\n",
    "\n",
    "nested_list = [1, [2, 3, 4, 5], [6, [7, 8, [9, 10]], 11], 12]\n",
    "for element in my_func_2(nested_list):\n",
    "    print(element)"
   ]
  },
  {
   "cell_type": "markdown",
   "metadata": {},
   "source": [
    "5.С помощью механизма map/filter/reduce (хотя бы одна из этих функций должна быть использована в решении) посчитать в тексте количество слов, состоящих не менее, чем из 3-х букв. Слова в тексте разделены пробелами. Написать реализацию в одну строку. Оформить решение в виде функции my_func_3(text), т.е. шаблон таков:\n",
    "\n",
    "строка с import, если необходимо def my_func_3(text): return # однострочная реализация задания"
   ]
  },
  {
   "cell_type": "code",
   "execution_count": 36,
   "metadata": {},
   "outputs": [
    {
     "name": "stdout",
     "output_type": "stream",
     "text": [
      "13\n"
     ]
    }
   ],
   "source": [
    "# Решение 5.\n",
    "def my_func_3(text):\n",
    "    return len(list(filter(lambda x: len(x) >= 3, text.split())))\n",
    "\n",
    "# Пример использования:\n",
    "text = 'Lorem ipsum dolor sit amet, consectetur adipiscing elit, sed do eiusmod tempor incididunt ut labore'\n",
    "print(my_func_3(text))"
   ]
  },
  {
   "cell_type": "code",
   "execution_count": null,
   "metadata": {},
   "outputs": [],
   "source": []
  }
 ],
 "metadata": {
  "kernelspec": {
   "display_name": "Python 3 (ipykernel)",
   "language": "python",
   "name": "python3"
  },
  "language_info": {
   "codemirror_mode": {
    "name": "ipython",
    "version": 3
   },
   "file_extension": ".py",
   "mimetype": "text/x-python",
   "name": "python",
   "nbconvert_exporter": "python",
   "pygments_lexer": "ipython3",
   "version": "3.11.7"
  }
 },
 "nbformat": 4,
 "nbformat_minor": 4
}
