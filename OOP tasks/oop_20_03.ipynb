{
 "cells": [
  {
   "cell_type": "markdown",
   "id": "f0886bc1-382a-4bd7-9953-70399f442026",
   "metadata": {},
   "source": [
    "<h1>25.6</h1>\n",
    "<p><font size = '4'>Класс – окружность. Методы – расчет длины окружности и ее площади. Поля класса – координаты центра, радиус, длина, площадь окружности.</font></p>"
   ]
  },
  {
   "cell_type": "code",
   "execution_count": 12,
   "id": "d03fabe1-a851-482d-ac9b-9af4dc9a2341",
   "metadata": {},
   "outputs": [
    {
     "name": "stdout",
     "output_type": "stream",
     "text": [
      "Длина окружности: 31.41592653589793\n",
      "Площадь окружности: 78.53981633974483\n"
     ]
    }
   ],
   "source": [
    "import math\n",
    "\n",
    "class Circle(object):\n",
    "    def __init__(self, start_x, start_y, radius):\n",
    "        self.start_x = start_x\n",
    "        self.start_y = start_y\n",
    "        self.radius = radius\n",
    "    \n",
    "    def length_of_circle(self):\n",
    "        self.length = 2 * math.pi * self.radius\n",
    "        return f'Длина окружности: {self.length}'\n",
    "    \n",
    "    def square_of_circle(self):\n",
    "        self.square = math.pi * ((self.radius)**2)\n",
    "        return f'Площадь окружности: {self.square}'\n",
    "\n",
    "\n",
    "circle_1 = Circle(0,0,5)\n",
    "print(circle_1.length_of_circle())\n",
    "print(circle_1.square_of_circle())"
   ]
  },
  {
   "cell_type": "markdown",
   "id": "3e2e5254-c0ba-4067-ae18-0345044b8b8b",
   "metadata": {},
   "source": [
    "<h1>26.6</h1>\n",
    "<p><font size = '4'>Опишите класс для работы со списком целых чисел размером  𝑛 . Включите в описание класса методы ввода элементов списка, вывода списка на экран, нахождения максимального и минимального элементов списка и их индексов, а также свойства, позволяющие: определить, является ли список упорядоченным по убыванию, домножить все элементы списка на скаляр.</font></p>"
   ]
  },
  {
   "cell_type": "code",
   "execution_count": 2,
   "id": "f308746c-61aa-4283-9233-b76713a148ff",
   "metadata": {},
   "outputs": [
    {
     "name": "stdin",
     "output_type": "stream",
     "text": [
      " 4\n",
      " 5\n",
      " 7\n",
      " 3\n"
     ]
    },
    {
     "name": "stdout",
     "output_type": "stream",
     "text": [
      "Заданный список: [4, 5, 7, 3]\n",
      "{'под индексом 2', 'максимальное число 7'}\n",
      "{'под индексом 3', 'минимальное число 3'}\n",
      "Список не упорядочен по убыванию\n"
     ]
    },
    {
     "name": "stdin",
     "output_type": "stream",
     "text": [
      " 8\n"
     ]
    },
    {
     "name": "stdout",
     "output_type": "stream",
     "text": [
      "[32, 40, 56, 24]\n"
     ]
    }
   ],
   "source": [
    "class list_array(object):\n",
    "    def __init__(self, n):\n",
    "        self.array = []\n",
    "        self.n = n\n",
    "    \n",
    "    def input_array(self):\n",
    "        for i in range(self.n):\n",
    "            number = int(input())\n",
    "            self.array.append(number)\n",
    "\n",
    "    def show_array(self):\n",
    "        return self.array\n",
    "    \n",
    "    def find_max(self):\n",
    "        max_number = max(self.array)\n",
    "        max_index = self.array.index(max_number)\n",
    "        return {f'максимальное число {max_number}',f'под индексом {max_index}'}\n",
    "    \n",
    "    def find_min(self):\n",
    "        min_number = min(self.array)\n",
    "        min_index = self.array.index(min_number)\n",
    "        return {f'минимальное число {min_number}',f'под индексом {min_index}'}\n",
    "\n",
    "    def check_down_sorted(self):\n",
    "        if sorted(self.array)[::-1] == self.array:\n",
    "            return 'Список упорядочен по убыванию'\n",
    "        else:\n",
    "            return 'Список не упорядочен по убыванию'\n",
    "    \n",
    "    def multiply_on_scalar(self, scalar):\n",
    "        self.scalar = scalar\n",
    "        return [mosn * self.scalar for mosn in self.array]\n",
    "\n",
    "\n",
    "our_array = list_array(4)\n",
    "our_array.input_array()\n",
    "\n",
    "print(f'Заданный список: {our_array.show_array()}')\n",
    "print(our_array.find_max())\n",
    "print(our_array.find_min())\n",
    "print(our_array.check_down_sorted())\n",
    "print(our_array.multiply_on_scalar(int(input())))"
   ]
  },
  {
   "cell_type": "markdown",
   "id": "70d1d7cd-c18b-41c0-861a-5e4b32bdcac9",
   "metadata": {},
   "source": [
    "<h1>27.6</h1>\n",
    "<p><font size ='4'>Создайте класс ТЕЛЕФОННЫЙ СПРАВОЧНИК с методами, позволяющими вывести на экран информацию о записях в телефонном справочнике, а также определить соответствие записи критерию поиска. Создайте дочерние классы ПЕРСОНА (фамилия, адрес, номер телефона), ОРГАНИЗАЦИЯ (название, адрес, телефон, факс, контактное лицо), ДРУГ (фамилия, адрес, номер телефона, дата рождения) со своими методами вывода информации на экран и определения соответствия заданной фамилии. Создайте список из  𝑛  записей, выведите полную информацию из базы на экран, а также организуйте поиск в базе по фамилии.</font></p>"
   ]
  },
  {
   "cell_type": "code",
   "execution_count": 3,
   "id": "e8c6d4d5-af9f-4cbd-bd0d-6da1e0abc15d",
   "metadata": {},
   "outputs": [
    {
     "name": "stdout",
     "output_type": "stream",
     "text": [
      "['Имя: Ilya, Фамилия: Priemyshev, Адрес: Moscow, Телефонный номер: +7-(999)-999-99-99', 'Название организации: Progeek, Адрес: Kazan, Телефонный номер: +7-(999)-999-01-01, Факс: 999-99-99, Контактное лицоGaliev', 'Имя друга: Mark, Фамилия друга: Ivanov, Адрес друга: Vladimir, Дата рождения друга: 12-04-2001']\n"
     ]
    }
   ],
   "source": [
    "class Phone_list():\n",
    "    def __init__(self):\n",
    "        self.entries = []\n",
    "\n",
    "    def add_info(self, info):\n",
    "        self.entries.append(info)\n",
    "    \n",
    "    def show_phone_list(self):\n",
    "        return self.entries\n",
    "\n",
    "    def search_surname(self, surname):\n",
    "        for el in self.entries:\n",
    "            if isinstance(el, Person) and el.surname == surname:\n",
    "                el.show_info()\n",
    "\n",
    "\n",
    "book = Phone_list()\n",
    "\n",
    "\n",
    "class Person():\n",
    "    def __init__(self, name, surname, address, phone_number):\n",
    "        self.name  = name\n",
    "        self.surname = surname\n",
    "        self.address = address\n",
    "        self.phone_number = phone_number\n",
    "    \n",
    "    def show_info(self):\n",
    "        return f'Имя: {self.name}, Фамилия: {self.surname}, Адрес: {self.address}, Телефонный номер: {self.phone_number}'\n",
    "    \n",
    "    def check_surname(self, surname):\n",
    "        return self.surname == surname\n",
    "\n",
    "\n",
    "human = Person('Ilya', 'Priemyshev', 'Moscow', '+7-(999)-999-99-99')\n",
    "\n",
    "\n",
    "class Organization():\n",
    "    def __init__(self, org_name, address, phone_number, fax, contact_person):\n",
    "        self.org_name = org_name\n",
    "        self.address = address\n",
    "        self.phone_number = phone_number\n",
    "        self.fax = fax\n",
    "        self.conact_person = contact_person\n",
    "    \n",
    "    def show_info(self):\n",
    "        return f'Название организации: {self.org_name}, Адрес: {self.address}, Телефонный номер: {self.phone_number}, Факс: {self.fax}, Контактное лицо{self.conact_person}'\n",
    "\n",
    "    def check_surname(self, surname):\n",
    "        return self.surname == surname\n",
    "\n",
    "\n",
    "company = Organization('Progeek', 'Kazan', '+7-(999)-999-01-01', '999-99-99', 'Galiev')\n",
    "\n",
    "\n",
    "class Friend():\n",
    "    def __init__(self, name, surname, address, date_of_birth):\n",
    "        self.name = name\n",
    "        self.surname = surname\n",
    "        self.address = address\n",
    "        self.date_of_birth = date_of_birth\n",
    "\n",
    "    def show_info(self):\n",
    "        return f'Имя друга: {self.name}, Фамилия друга: {self.surname}, Адрес друга: {self.address}, Дата рождения друга: {self.date_of_birth}'\n",
    "\n",
    "    def check_surname(self, surname):\n",
    "        return self.surname == surname\n",
    "\n",
    "\n",
    "buddy = Friend('Mark', 'Ivanov', 'Vladimir', '12-04-2001')\n",
    "\n",
    "book.add_info(human.show_info())\n",
    "book.add_info(company.show_info())\n",
    "book.add_info(buddy.show_info())\n",
    "\n",
    "print(book.show_phone_list())"
   ]
  }
 ],
 "metadata": {
  "kernelspec": {
   "display_name": "Python 3 (ipykernel)",
   "language": "python",
   "name": "python3"
  },
  "language_info": {
   "codemirror_mode": {
    "name": "ipython",
    "version": 3
   },
   "file_extension": ".py",
   "mimetype": "text/x-python",
   "name": "python",
   "nbconvert_exporter": "python",
   "pygments_lexer": "ipython3",
   "version": "3.11.7"
  }
 },
 "nbformat": 4,
 "nbformat_minor": 5
}
