{
 "cells": [
  {
   "cell_type": "markdown",
   "id": "a2ee98a4-9ba9-448e-bc0c-f3488a55eff4",
   "metadata": {},
   "source": [
    "<h1>Задача 1.</h1> \n",
    "<p><font size = '4'>Создать класс «Студент» и реализовать методы для установки и получения имени студента.</font></p>\n"
   ]
  },
  {
   "cell_type": "code",
   "execution_count": 1,
   "id": "2878db8d-ec0c-415c-b139-8d7493f1290c",
   "metadata": {},
   "outputs": [
    {
     "name": "stdin",
     "output_type": "stream",
     "text": [
      "Введите имя студента:  ilya\n"
     ]
    },
    {
     "name": "stdout",
     "output_type": "stream",
     "text": [
      "Имя студента: ilya\n"
     ]
    }
   ],
   "source": [
    "class Student(object):\n",
    "    def __init__(self, name):\n",
    "        self.name = name\n",
    "    \n",
    "    def get_student_name(self):\n",
    "        return f'Имя студента: {self.name}'\n",
    "\n",
    "\n",
    "st = Student(input('Введите имя студента: '))\n",
    "print(st.get_student_name())"
   ]
  },
  {
   "cell_type": "markdown",
   "id": "1917d07d-5ff8-45af-a500-61702d7da8eb",
   "metadata": {},
   "source": [
    "<h1>Задача 2.</h1> \n",
    "<p><font size = '4'>Создать класс «Товар» с методами для установки и получения цены товара.</font></p>"
   ]
  },
  {
   "cell_type": "code",
   "execution_count": 6,
   "id": "128d7635-cee1-4b7a-8272-87cb3d4174e5",
   "metadata": {},
   "outputs": [
    {
     "name": "stdin",
     "output_type": "stream",
     "text": [
      "Введите цену на товар:  35\n"
     ]
    },
    {
     "name": "stdout",
     "output_type": "stream",
     "text": [
      "35 условных денежных единиц\n"
     ]
    }
   ],
   "source": [
    "class Goods(object):\n",
    "    def __init__(self, price):\n",
    "        self.price = price\n",
    "\n",
    "    def get_price(self):\n",
    "        return f'{self.price} условных денежных единиц'\n",
    "\n",
    "\n",
    "arr = Goods(int(input('Введите цену на товар: ')))\n",
    "print(arr.get_price())"
   ]
  },
  {
   "cell_type": "markdown",
   "id": "6f1c5318-4399-4967-b9ec-c1684ff8d7d8",
   "metadata": {},
   "source": [
    "<h1>Задача 3.</h1> \n",
    "<p><font size = '4'>Создать класс «Калькулятор» с методами для выполнения простых математических операций: сложение, вычитание, умножение и деление.</font></p>"
   ]
  },
  {
   "cell_type": "code",
   "execution_count": 7,
   "id": "c08f0f3e-a9d7-42bb-956c-8bd29b0ae443",
   "metadata": {},
   "outputs": [
    {
     "name": "stdin",
     "output_type": "stream",
     "text": [
      "Введите первое число:  4\n",
      "Введите второе число:  2\n"
     ]
    },
    {
     "name": "stdout",
     "output_type": "stream",
     "text": [
      "Результат суммы: 6\n",
      "Результат вычитания: 2\n",
      "Результат умножения: 8\n",
      "Результат деления: 2.0\n"
     ]
    }
   ],
   "source": [
    "class Calculate(object):\n",
    "    def __init__(self, first_part, second_part):\n",
    "        self.first_part = first_part\n",
    "        self.second_part = second_part\n",
    "    \n",
    "    def addition(self):\n",
    "        return self.first_part + self.second_part\n",
    "    \n",
    "    def subtractoin(self):\n",
    "        return self.first_part - self.second_part\n",
    "    \n",
    "    def multiplication(self):\n",
    "         return self.first_part * self.second_part\n",
    "    \n",
    "    def division(self):\n",
    "         return self.first_part / self.second_part\n",
    "\n",
    "\n",
    "ans = Calculate(int(input('Введите первое число: ')), int(input('Введите второе число: ')))\n",
    "print(f'Результат суммы: {ans.addition()}')\n",
    "print(f'Результат вычитания: {ans.subtractoin()}')\n",
    "print(f'Результат умножения: {ans.multiplication()}')\n",
    "print(f'Результат деления: {ans.division()}')"
   ]
  },
  {
   "cell_type": "markdown",
   "id": "a9438d99-3bd7-4ccc-b66c-25624cfeae29",
   "metadata": {},
   "source": [
    "<h1>Задача 4.</h1> \n",
    "<p><font size = '4'>Создайте класс Soda (для определения типа газированной воды), принимающий 1 аргумент при\n",
    "инициализации (отвечающий за добавку к выбираемому лимонаду). В этом классе реализуйте метод show_my_drink(), \n",
    "выводящий на печать Газировка и {ДОБАВКА} в случае наличия добавки, а иначе отобразится следующая фраза: \n",
    "Обычная газировка.</font></p>"
   ]
  },
  {
   "cell_type": "code",
   "execution_count": 8,
   "id": "d82642ea-1ce1-4171-b2d2-ea38461c7d7a",
   "metadata": {},
   "outputs": [
    {
     "name": "stdin",
     "output_type": "stream",
     "text": [
      "Введите вкус добавки:  малина\n"
     ]
    },
    {
     "name": "stdout",
     "output_type": "stream",
     "text": [
      "Газировка и малина\n"
     ]
    }
   ],
   "source": [
    "class Soda(object):\n",
    "    def __init__(self, additional):\n",
    "        self.additional = additional\n",
    "    \n",
    "    def show_my_drink(self):\n",
    "        if len(self.additional) > 0:\n",
    "            return f'Газировка и {self.additional}'\n",
    "        else:\n",
    "            return 'Обычная газировка'\n",
    "\n",
    "\n",
    "sparkling = Soda(input('Введите вкус добавки: '))\n",
    "print(sparkling.show_my_drink())"
   ]
  },
  {
   "cell_type": "markdown",
   "id": "4b2910d0-a206-43bd-9fc0-87b037d912e5",
   "metadata": {},
   "source": [
    "<h1>Задача 5.</h1> \n",
    "<p><font size = '4'>Николаю требуется проверить, возможно ли из представленных отрезков условной длины сформировать треугольник. Для этого он решил создать класс TriangleChecker, принимающий только положительные числа. С помощью метода is_triangle() возвращаются следующие значения (в зависимости от ситуации):\n",
    "– Ура, можно построить треугольник!;\n",
    "– С отрицательными числами ничего не выйдет!;\n",
    "– Нужно вводить только числа!;\n",
    "– Жаль, но из этого треугольник не сделать.\n",
    "</font></p>"
   ]
  },
  {
   "cell_type": "code",
   "execution_count": 9,
   "id": "077efe26-c1f0-4260-90bf-98550ac2d56d",
   "metadata": {},
   "outputs": [
    {
     "name": "stdin",
     "output_type": "stream",
     "text": [
      "Введите первую сторону:  12\n",
      "Введите вторую сторону:  5\n",
      "Введите третью сторону:  3\n"
     ]
    },
    {
     "name": "stdout",
     "output_type": "stream",
     "text": [
      "Жаль, но из этого треугольник не сделать\n"
     ]
    }
   ],
   "source": [
    "class TriangleChecker(object):\n",
    "    def __init__(self, first_len, second_len, third_len):\n",
    "        self.first_len = first_len\n",
    "        self.second_len = second_len\n",
    "        self.third_len = third_len\n",
    "    \n",
    "    def is_triangle(self):\n",
    "        if self.first_len.isalpha() or self.second_len.isalpha() or self.third_len.isalpha():\n",
    "            return 'Нужно вводить только числа!'\n",
    "        \n",
    "        if (int(self.first_len) < 0) or (int(self.second_len) < 0) or (int(self.third_len) < 0):\n",
    "            return 'С отрицательными числами ничего не выйдет!'\n",
    "        \n",
    "        if (int(self.first_len) + int(self.second_len)) > int(self.third_len) and (int(self.first_len) + int(self.third_len)) > int(self.second_len) and\\\n",
    "        (int(self.second_len) + int(self.third_len)) > int(self.first_len):\n",
    "            return 'Ура, можно построить треугольник!'\n",
    "        \n",
    "        else:\n",
    "            return 'Жаль, но из этого треугольник не сделать'\n",
    "\n",
    "\n",
    "triangle = TriangleChecker(input('Введите первую сторону: '), input('Введите вторую сторону: '), input('Введите третью сторону: '))\n",
    "print(triangle.is_triangle())"
   ]
  },
  {
   "cell_type": "markdown",
   "id": "e957edb0-8034-41a6-95c0-f54aa776ef79",
   "metadata": {},
   "source": [
    "<h1>Задача 6.</h1> \n",
    "<p><font size = '4'>Евгения создала класс KgToPounds с параметром kg, куда передается определенное количество килограмм, \n",
    "а с помощью метода to_pounds() они переводятся в фунты. Чтобы закрыть доступ к переменной kg она реализовала методы \n",
    "set_kg() - для задания нового значения килограммов, get_kg() - для вывода текущего значения кг. Из-за этого возникло неудобство: \n",
    "нам нужно теперь использовать эти 2 метода для задания и вывода значений. Помогите ей переделать класс с использованием функции \n",
    "property() и свойств-декораторов. Код приведен ниже.\n",
    "</font></p>"
   ]
  },
  {
   "cell_type": "code",
   "execution_count": 10,
   "id": "014f5747-3057-4945-ac80-8fc9dce28a8c",
   "metadata": {},
   "outputs": [
    {
     "name": "stdout",
     "output_type": "stream",
     "text": [
      "13.23\n",
      "7\n",
      "7\n"
     ]
    }
   ],
   "source": [
    "class KgToPounds(object):\n",
    "    def __init__(self, kg):\n",
    "        self.__kg = kg\n",
    "    \n",
    "    def to_pounds(self):\n",
    "        return self.__kg * 2.205\n",
    "    \n",
    "    def set_kg(self,new_kg):\n",
    "        if isinstance(new_kg,(int, float)):\n",
    "            self.__kg = new_kg\n",
    "        else:\n",
    "            raise ValueError('Килограммы задаются только числами')\n",
    "\n",
    "    def get_kg(self):\n",
    "        return self.__kg\n",
    "\n",
    "    kg_second = property(get_kg, set_kg)\n",
    "\n",
    "\n",
    "weight = KgToPounds(6)\n",
    "print(weight.to_pounds())\n",
    "weight.set_kg(7)\n",
    "print(weight.get_kg())\n",
    "print(weight.kg_second)"
   ]
  },
  {
   "cell_type": "code",
   "execution_count": null,
   "id": "2dfbcbf6-419c-4e76-bf96-f9773d8cf273",
   "metadata": {},
   "outputs": [],
   "source": []
  }
 ],
 "metadata": {
  "kernelspec": {
   "display_name": "Python 3 (ipykernel)",
   "language": "python",
   "name": "python3"
  },
  "language_info": {
   "codemirror_mode": {
    "name": "ipython",
    "version": 3
   },
   "file_extension": ".py",
   "mimetype": "text/x-python",
   "name": "python",
   "nbconvert_exporter": "python",
   "pygments_lexer": "ipython3",
   "version": "3.11.7"
  }
 },
 "nbformat": 4,
 "nbformat_minor": 5
}
